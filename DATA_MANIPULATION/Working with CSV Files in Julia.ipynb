{
 "cells": [
  {
   "cell_type": "code",
   "execution_count": 1,
   "metadata": {},
   "outputs": [],
   "source": [
    "using Pkg"
   ]
  },
  {
   "cell_type": "code",
   "execution_count": 2,
   "metadata": {},
   "outputs": [],
   "source": [
    "using CSV"
   ]
  },
  {
   "cell_type": "code",
   "execution_count": 4,
   "metadata": {},
   "outputs": [
    {
     "data": {
      "text/html": [
       "<table class=\"data-frame\"><thead><tr><th></th><th>Id</th><th>SepalLengthCm</th><th>SepalWidthCm</th><th>PetalLengthCm</th><th>PetalWidthCm</th><th>Species</th></tr><tr><th></th><th>Int64</th><th>Float64</th><th>Float64</th><th>Float64</th><th>Float64</th><th>String</th></tr></thead><tbody><p>150 rows × 6 columns</p><tr><th>1</th><td>1</td><td>5.1</td><td>3.5</td><td>1.4</td><td>0.2</td><td>Iris-setosa</td></tr><tr><th>2</th><td>2</td><td>4.9</td><td>3.0</td><td>1.4</td><td>0.2</td><td>Iris-setosa</td></tr><tr><th>3</th><td>3</td><td>4.7</td><td>3.2</td><td>1.3</td><td>0.2</td><td>Iris-setosa</td></tr><tr><th>4</th><td>4</td><td>4.6</td><td>3.1</td><td>1.5</td><td>0.2</td><td>Iris-setosa</td></tr><tr><th>5</th><td>5</td><td>5.0</td><td>3.6</td><td>1.4</td><td>0.2</td><td>Iris-setosa</td></tr><tr><th>6</th><td>6</td><td>5.4</td><td>3.9</td><td>1.7</td><td>0.4</td><td>Iris-setosa</td></tr><tr><th>7</th><td>7</td><td>4.6</td><td>3.4</td><td>1.4</td><td>0.3</td><td>Iris-setosa</td></tr><tr><th>8</th><td>8</td><td>5.0</td><td>3.4</td><td>1.5</td><td>0.2</td><td>Iris-setosa</td></tr><tr><th>9</th><td>9</td><td>4.4</td><td>2.9</td><td>1.4</td><td>0.2</td><td>Iris-setosa</td></tr><tr><th>10</th><td>10</td><td>4.9</td><td>3.1</td><td>1.5</td><td>0.1</td><td>Iris-setosa</td></tr><tr><th>11</th><td>11</td><td>5.4</td><td>3.7</td><td>1.5</td><td>0.2</td><td>Iris-setosa</td></tr><tr><th>12</th><td>12</td><td>4.8</td><td>3.4</td><td>1.6</td><td>0.2</td><td>Iris-setosa</td></tr><tr><th>13</th><td>13</td><td>4.8</td><td>3.0</td><td>1.4</td><td>0.1</td><td>Iris-setosa</td></tr><tr><th>14</th><td>14</td><td>4.3</td><td>3.0</td><td>1.1</td><td>0.1</td><td>Iris-setosa</td></tr><tr><th>15</th><td>15</td><td>5.8</td><td>4.0</td><td>1.2</td><td>0.2</td><td>Iris-setosa</td></tr><tr><th>16</th><td>16</td><td>5.7</td><td>4.4</td><td>1.5</td><td>0.4</td><td>Iris-setosa</td></tr><tr><th>17</th><td>17</td><td>5.4</td><td>3.9</td><td>1.3</td><td>0.4</td><td>Iris-setosa</td></tr><tr><th>18</th><td>18</td><td>5.1</td><td>3.5</td><td>1.4</td><td>0.3</td><td>Iris-setosa</td></tr><tr><th>19</th><td>19</td><td>5.7</td><td>3.8</td><td>1.7</td><td>0.3</td><td>Iris-setosa</td></tr><tr><th>20</th><td>20</td><td>5.1</td><td>3.8</td><td>1.5</td><td>0.3</td><td>Iris-setosa</td></tr><tr><th>21</th><td>21</td><td>5.4</td><td>3.4</td><td>1.7</td><td>0.2</td><td>Iris-setosa</td></tr><tr><th>22</th><td>22</td><td>5.1</td><td>3.7</td><td>1.5</td><td>0.4</td><td>Iris-setosa</td></tr><tr><th>23</th><td>23</td><td>4.6</td><td>3.6</td><td>1.0</td><td>0.2</td><td>Iris-setosa</td></tr><tr><th>24</th><td>24</td><td>5.1</td><td>3.3</td><td>1.7</td><td>0.5</td><td>Iris-setosa</td></tr><tr><th>25</th><td>25</td><td>4.8</td><td>3.4</td><td>1.9</td><td>0.2</td><td>Iris-setosa</td></tr><tr><th>26</th><td>26</td><td>5.0</td><td>3.0</td><td>1.6</td><td>0.2</td><td>Iris-setosa</td></tr><tr><th>27</th><td>27</td><td>5.0</td><td>3.4</td><td>1.6</td><td>0.4</td><td>Iris-setosa</td></tr><tr><th>28</th><td>28</td><td>5.2</td><td>3.5</td><td>1.5</td><td>0.2</td><td>Iris-setosa</td></tr><tr><th>29</th><td>29</td><td>5.2</td><td>3.4</td><td>1.4</td><td>0.2</td><td>Iris-setosa</td></tr><tr><th>30</th><td>30</td><td>4.7</td><td>3.2</td><td>1.6</td><td>0.2</td><td>Iris-setosa</td></tr><tr><th>&vellip;</th><td>&vellip;</td><td>&vellip;</td><td>&vellip;</td><td>&vellip;</td><td>&vellip;</td><td>&vellip;</td></tr></tbody></table>"
      ],
      "text/latex": [
       "\\begin{tabular}{r|cccccc}\n",
       "\t& Id & SepalLengthCm & SepalWidthCm & PetalLengthCm & PetalWidthCm & Species\\\\\n",
       "\t\\hline\n",
       "\t& Int64 & Float64 & Float64 & Float64 & Float64 & String\\\\\n",
       "\t\\hline\n",
       "\t1 & 1 & 5.1 & 3.5 & 1.4 & 0.2 & Iris-setosa \\\\\n",
       "\t2 & 2 & 4.9 & 3.0 & 1.4 & 0.2 & Iris-setosa \\\\\n",
       "\t3 & 3 & 4.7 & 3.2 & 1.3 & 0.2 & Iris-setosa \\\\\n",
       "\t4 & 4 & 4.6 & 3.1 & 1.5 & 0.2 & Iris-setosa \\\\\n",
       "\t5 & 5 & 5.0 & 3.6 & 1.4 & 0.2 & Iris-setosa \\\\\n",
       "\t6 & 6 & 5.4 & 3.9 & 1.7 & 0.4 & Iris-setosa \\\\\n",
       "\t7 & 7 & 4.6 & 3.4 & 1.4 & 0.3 & Iris-setosa \\\\\n",
       "\t8 & 8 & 5.0 & 3.4 & 1.5 & 0.2 & Iris-setosa \\\\\n",
       "\t9 & 9 & 4.4 & 2.9 & 1.4 & 0.2 & Iris-setosa \\\\\n",
       "\t10 & 10 & 4.9 & 3.1 & 1.5 & 0.1 & Iris-setosa \\\\\n",
       "\t11 & 11 & 5.4 & 3.7 & 1.5 & 0.2 & Iris-setosa \\\\\n",
       "\t12 & 12 & 4.8 & 3.4 & 1.6 & 0.2 & Iris-setosa \\\\\n",
       "\t13 & 13 & 4.8 & 3.0 & 1.4 & 0.1 & Iris-setosa \\\\\n",
       "\t14 & 14 & 4.3 & 3.0 & 1.1 & 0.1 & Iris-setosa \\\\\n",
       "\t15 & 15 & 5.8 & 4.0 & 1.2 & 0.2 & Iris-setosa \\\\\n",
       "\t16 & 16 & 5.7 & 4.4 & 1.5 & 0.4 & Iris-setosa \\\\\n",
       "\t17 & 17 & 5.4 & 3.9 & 1.3 & 0.4 & Iris-setosa \\\\\n",
       "\t18 & 18 & 5.1 & 3.5 & 1.4 & 0.3 & Iris-setosa \\\\\n",
       "\t19 & 19 & 5.7 & 3.8 & 1.7 & 0.3 & Iris-setosa \\\\\n",
       "\t20 & 20 & 5.1 & 3.8 & 1.5 & 0.3 & Iris-setosa \\\\\n",
       "\t21 & 21 & 5.4 & 3.4 & 1.7 & 0.2 & Iris-setosa \\\\\n",
       "\t22 & 22 & 5.1 & 3.7 & 1.5 & 0.4 & Iris-setosa \\\\\n",
       "\t23 & 23 & 4.6 & 3.6 & 1.0 & 0.2 & Iris-setosa \\\\\n",
       "\t24 & 24 & 5.1 & 3.3 & 1.7 & 0.5 & Iris-setosa \\\\\n",
       "\t25 & 25 & 4.8 & 3.4 & 1.9 & 0.2 & Iris-setosa \\\\\n",
       "\t26 & 26 & 5.0 & 3.0 & 1.6 & 0.2 & Iris-setosa \\\\\n",
       "\t27 & 27 & 5.0 & 3.4 & 1.6 & 0.4 & Iris-setosa \\\\\n",
       "\t28 & 28 & 5.2 & 3.5 & 1.5 & 0.2 & Iris-setosa \\\\\n",
       "\t29 & 29 & 5.2 & 3.4 & 1.4 & 0.2 & Iris-setosa \\\\\n",
       "\t30 & 30 & 4.7 & 3.2 & 1.6 & 0.2 & Iris-setosa \\\\\n",
       "\t$\\dots$ & $\\dots$ & $\\dots$ & $\\dots$ & $\\dots$ & $\\dots$ & $\\dots$ \\\\\n",
       "\\end{tabular}\n"
      ],
      "text/plain": [
       "150×6 DataFrames.DataFrame. Omitted printing of 1 columns\n",
       "│ Row │ Id    │ SepalLengthCm │ SepalWidthCm │ PetalLengthCm │ PetalWidthCm │\n",
       "│     │ \u001b[90mInt64\u001b[39m │ \u001b[90mFloat64\u001b[39m       │ \u001b[90mFloat64\u001b[39m      │ \u001b[90mFloat64\u001b[39m       │ \u001b[90mFloat64\u001b[39m      │\n",
       "├─────┼───────┼───────────────┼──────────────┼───────────────┼──────────────┤\n",
       "│ 1   │ 1     │ 5.1           │ 3.5          │ 1.4           │ 0.2          │\n",
       "│ 2   │ 2     │ 4.9           │ 3.0          │ 1.4           │ 0.2          │\n",
       "│ 3   │ 3     │ 4.7           │ 3.2          │ 1.3           │ 0.2          │\n",
       "│ 4   │ 4     │ 4.6           │ 3.1          │ 1.5           │ 0.2          │\n",
       "│ 5   │ 5     │ 5.0           │ 3.6          │ 1.4           │ 0.2          │\n",
       "│ 6   │ 6     │ 5.4           │ 3.9          │ 1.7           │ 0.4          │\n",
       "│ 7   │ 7     │ 4.6           │ 3.4          │ 1.4           │ 0.3          │\n",
       "│ 8   │ 8     │ 5.0           │ 3.4          │ 1.5           │ 0.2          │\n",
       "│ 9   │ 9     │ 4.4           │ 2.9          │ 1.4           │ 0.2          │\n",
       "│ 10  │ 10    │ 4.9           │ 3.1          │ 1.5           │ 0.1          │\n",
       "⋮\n",
       "│ 140 │ 140   │ 6.9           │ 3.1          │ 5.4           │ 2.1          │\n",
       "│ 141 │ 141   │ 6.7           │ 3.1          │ 5.6           │ 2.4          │\n",
       "│ 142 │ 142   │ 6.9           │ 3.1          │ 5.1           │ 2.3          │\n",
       "│ 143 │ 143   │ 5.8           │ 2.7          │ 5.1           │ 1.9          │\n",
       "│ 144 │ 144   │ 6.8           │ 3.2          │ 5.9           │ 2.3          │\n",
       "│ 145 │ 145   │ 6.7           │ 3.3          │ 5.7           │ 2.5          │\n",
       "│ 146 │ 146   │ 6.7           │ 3.0          │ 5.2           │ 2.3          │\n",
       "│ 147 │ 147   │ 6.3           │ 2.5          │ 5.0           │ 1.9          │\n",
       "│ 148 │ 148   │ 6.5           │ 3.0          │ 5.2           │ 2.0          │\n",
       "│ 149 │ 149   │ 6.2           │ 3.4          │ 5.4           │ 2.3          │\n",
       "│ 150 │ 150   │ 5.9           │ 3.0          │ 5.1           │ 1.8          │"
      ]
     },
     "execution_count": 4,
     "metadata": {},
     "output_type": "execute_result"
    }
   ],
   "source": [
    "iris = CSV.read(\"Iris.csv\", normalizenames = true)"
   ]
  },
  {
   "cell_type": "code",
   "execution_count": 6,
   "metadata": {},
   "outputs": [
    {
     "data": {
      "text/plain": [
       "DataFrames.DataFrame"
      ]
     },
     "execution_count": 6,
     "metadata": {},
     "output_type": "execute_result"
    }
   ],
   "source": [
    "typeof(iris)"
   ]
  },
  {
   "cell_type": "code",
   "execution_count": 7,
   "metadata": {},
   "outputs": [
    {
     "data": {
      "text/plain": [
       "6-element Array{String,1}:\n",
       " \"Id\"\n",
       " \"SepalLengthCm\"\n",
       " \"SepalWidthCm\"\n",
       " \"PetalLengthCm\"\n",
       " \"PetalWidthCm\"\n",
       " \"Species\""
      ]
     },
     "execution_count": 7,
     "metadata": {},
     "output_type": "execute_result"
    }
   ],
   "source": [
    "names(iris)"
   ]
  },
  {
   "cell_type": "code",
   "execution_count": 8,
   "metadata": {},
   "outputs": [
    {
     "data": {
      "text/plain": [
       "(150, 6)"
      ]
     },
     "execution_count": 8,
     "metadata": {},
     "output_type": "execute_result"
    }
   ],
   "source": [
    "size(iris)"
   ]
  },
  {
   "cell_type": "code",
   "execution_count": 11,
   "metadata": {},
   "outputs": [
    {
     "name": "stderr",
     "output_type": "stream",
     "text": [
      "\u001b[32m\u001b[1m   Updating\u001b[22m\u001b[39m registry at `C:\\Users\\Y.SAHITH\\.julia\\registries\\General`\n",
      "\u001b[32m\u001b[1m   Updating\u001b[22m\u001b[39m git-repo `https://github.com/JuliaRegistries/General.git`"
     ]
    },
    {
     "name": "stdout",
     "output_type": "stream",
     "text": [
      "\u001b[?25l    \u001b[36m\u001b[1mFetching:\u001b[22m\u001b[39m [>                                        ]  0.0 %\r",
      "    \u001b[36m\u001b[1mFetching:\u001b[22m\u001b[39m [=>                                       ]  0.1 %\r",
      "    \u001b[36m\u001b[1mFetching:\u001b[22m\u001b[39m [=>                                       ]  0.3 %\r",
      "    \u001b[36m\u001b[1mFetching:\u001b[22m\u001b[39m [=>                                       ]  0.4 %\r",
      "    \u001b[36m\u001b[1mFetching:\u001b[22m\u001b[39m [=>                                       ]  0.5 %\r",
      "    \u001b[36m\u001b[1mFetching:\u001b[22m\u001b[39m [=>                                       ]  0.7 %\r",
      "    \u001b[36m\u001b[1mFetching:\u001b[22m\u001b[39m [=>                                       ]  0"
     ]
    },
    {
     "name": "stderr",
     "output_type": "stream",
     "text": [
      "\n"
     ]
    },
    {
     "name": "stdout",
     "output_type": "stream",
     "text": [
      "\u001b[2K\u001b[36m\u001b[1mFetching:\u001b[22m\u001b[39m [========================================>]  100.0 %                                  ]  9.2 %\u001b[36m\u001b[1mFetching:\u001b[22m\u001b[39m [=======>                                 ]  16.5 %\u001b[36m\u001b[1mFetching:\u001b[22m\u001b[39m [========>                                ]  19.7 %\u001b[36m\u001b[1mFetching:\u001b[22m\u001b[39m [=================>                       ]  42.1 %\u001b[36m\u001b[1mFetching:\u001b[22m\u001b[39m [====================>                    ]  48.5 %\u001b[36m\u001b[1mFetching:\u001b[22m\u001b[39m [=========================>               ]  60.2 % [===========================>             ]  66.7 %\u001b[36m\u001b[1mFetching:\u001b[22m\u001b[39m [================================>        ]  79.4 %\u001b[36m\u001b[1mFetching:\u001b[22m\u001b[39m [==================================>      ]  84.3 % [=====================================>   ]  90.9 %\u001b[?25h"
     ]
    },
    {
     "name": "stderr",
     "output_type": "stream",
     "text": [
      "\u001b[32m\u001b[1m  Resolving\u001b[22m\u001b[39m package versions...\n",
      "\u001b[32m\u001b[1m  Installed\u001b[22m\u001b[39m DataFrames ─ v0.21.2\n",
      "\u001b[32m\u001b[1m   Updating\u001b[22m\u001b[39m `C:\\Users\\Y.SAHITH\\.julia\\environments\\v1.4\\Project.toml`\n",
      " \u001b[90m [a93c6f00]\u001b[39m\u001b[92m + DataFrames v0.21.2\u001b[39m\n",
      "\u001b[32m\u001b[1m   Updating\u001b[22m\u001b[39m `C:\\Users\\Y.SAHITH\\.julia\\environments\\v1.4\\Manifest.toml`\n",
      " \u001b[90m [a93c6f00]\u001b[39m\u001b[93m ↑ DataFrames v0.21.1 ⇒ v0.21.2\u001b[39m\n"
     ]
    }
   ],
   "source": [
    "Pkg.add(\"DataFrames\")\n",
    "using DataFrames"
   ]
  },
  {
   "cell_type": "code",
   "execution_count": 13,
   "metadata": {},
   "outputs": [
    {
     "data": {
      "text/html": [
       "<table class=\"data-frame\"><thead><tr><th></th><th>Id</th><th>SepalLengthCm</th><th>SepalWidthCm</th><th>PetalLengthCm</th><th>PetalWidthCm</th><th>Species</th></tr><tr><th></th><th>Int64</th><th>Float64</th><th>Float64</th><th>Float64</th><th>Float64</th><th>String</th></tr></thead><tbody><p>6 rows × 6 columns</p><tr><th>1</th><td>1</td><td>5.1</td><td>3.5</td><td>1.4</td><td>0.2</td><td>Iris-setosa</td></tr><tr><th>2</th><td>2</td><td>4.9</td><td>3.0</td><td>1.4</td><td>0.2</td><td>Iris-setosa</td></tr><tr><th>3</th><td>3</td><td>4.7</td><td>3.2</td><td>1.3</td><td>0.2</td><td>Iris-setosa</td></tr><tr><th>4</th><td>4</td><td>4.6</td><td>3.1</td><td>1.5</td><td>0.2</td><td>Iris-setosa</td></tr><tr><th>5</th><td>5</td><td>5.0</td><td>3.6</td><td>1.4</td><td>0.2</td><td>Iris-setosa</td></tr><tr><th>6</th><td>6</td><td>5.4</td><td>3.9</td><td>1.7</td><td>0.4</td><td>Iris-setosa</td></tr></tbody></table>"
      ],
      "text/latex": [
       "\\begin{tabular}{r|cccccc}\n",
       "\t& Id & SepalLengthCm & SepalWidthCm & PetalLengthCm & PetalWidthCm & Species\\\\\n",
       "\t\\hline\n",
       "\t& Int64 & Float64 & Float64 & Float64 & Float64 & String\\\\\n",
       "\t\\hline\n",
       "\t1 & 1 & 5.1 & 3.5 & 1.4 & 0.2 & Iris-setosa \\\\\n",
       "\t2 & 2 & 4.9 & 3.0 & 1.4 & 0.2 & Iris-setosa \\\\\n",
       "\t3 & 3 & 4.7 & 3.2 & 1.3 & 0.2 & Iris-setosa \\\\\n",
       "\t4 & 4 & 4.6 & 3.1 & 1.5 & 0.2 & Iris-setosa \\\\\n",
       "\t5 & 5 & 5.0 & 3.6 & 1.4 & 0.2 & Iris-setosa \\\\\n",
       "\t6 & 6 & 5.4 & 3.9 & 1.7 & 0.4 & Iris-setosa \\\\\n",
       "\\end{tabular}\n"
      ],
      "text/plain": [
       "6×6 DataFrame. Omitted printing of 1 columns\n",
       "│ Row │ Id    │ SepalLengthCm │ SepalWidthCm │ PetalLengthCm │ PetalWidthCm │\n",
       "│     │ \u001b[90mInt64\u001b[39m │ \u001b[90mFloat64\u001b[39m       │ \u001b[90mFloat64\u001b[39m      │ \u001b[90mFloat64\u001b[39m       │ \u001b[90mFloat64\u001b[39m      │\n",
       "├─────┼───────┼───────────────┼──────────────┼───────────────┼──────────────┤\n",
       "│ 1   │ 1     │ 5.1           │ 3.5          │ 1.4           │ 0.2          │\n",
       "│ 2   │ 2     │ 4.9           │ 3.0          │ 1.4           │ 0.2          │\n",
       "│ 3   │ 3     │ 4.7           │ 3.2          │ 1.3           │ 0.2          │\n",
       "│ 4   │ 4     │ 4.6           │ 3.1          │ 1.5           │ 0.2          │\n",
       "│ 5   │ 5     │ 5.0           │ 3.6          │ 1.4           │ 0.2          │\n",
       "│ 6   │ 6     │ 5.4           │ 3.9          │ 1.7           │ 0.4          │"
      ]
     },
     "execution_count": 13,
     "metadata": {},
     "output_type": "execute_result"
    }
   ],
   "source": [
    "first(iris, 6)"
   ]
  },
  {
   "cell_type": "code",
   "execution_count": 14,
   "metadata": {},
   "outputs": [
    {
     "name": "stderr",
     "output_type": "stream",
     "text": [
      "┌ Warning: `head(df::AbstractDataFrame)` is deprecated, use `first(df, 6)` instead.\n",
      "│   caller = top-level scope at In[14]:1\n",
      "└ @ Core In[14]:1\n"
     ]
    },
    {
     "data": {
      "text/html": [
       "<table class=\"data-frame\"><thead><tr><th></th><th>Id</th><th>SepalLengthCm</th><th>SepalWidthCm</th><th>PetalLengthCm</th><th>PetalWidthCm</th><th>Species</th></tr><tr><th></th><th>Int64</th><th>Float64</th><th>Float64</th><th>Float64</th><th>Float64</th><th>String</th></tr></thead><tbody><p>6 rows × 6 columns</p><tr><th>1</th><td>1</td><td>5.1</td><td>3.5</td><td>1.4</td><td>0.2</td><td>Iris-setosa</td></tr><tr><th>2</th><td>2</td><td>4.9</td><td>3.0</td><td>1.4</td><td>0.2</td><td>Iris-setosa</td></tr><tr><th>3</th><td>3</td><td>4.7</td><td>3.2</td><td>1.3</td><td>0.2</td><td>Iris-setosa</td></tr><tr><th>4</th><td>4</td><td>4.6</td><td>3.1</td><td>1.5</td><td>0.2</td><td>Iris-setosa</td></tr><tr><th>5</th><td>5</td><td>5.0</td><td>3.6</td><td>1.4</td><td>0.2</td><td>Iris-setosa</td></tr><tr><th>6</th><td>6</td><td>5.4</td><td>3.9</td><td>1.7</td><td>0.4</td><td>Iris-setosa</td></tr></tbody></table>"
      ],
      "text/latex": [
       "\\begin{tabular}{r|cccccc}\n",
       "\t& Id & SepalLengthCm & SepalWidthCm & PetalLengthCm & PetalWidthCm & Species\\\\\n",
       "\t\\hline\n",
       "\t& Int64 & Float64 & Float64 & Float64 & Float64 & String\\\\\n",
       "\t\\hline\n",
       "\t1 & 1 & 5.1 & 3.5 & 1.4 & 0.2 & Iris-setosa \\\\\n",
       "\t2 & 2 & 4.9 & 3.0 & 1.4 & 0.2 & Iris-setosa \\\\\n",
       "\t3 & 3 & 4.7 & 3.2 & 1.3 & 0.2 & Iris-setosa \\\\\n",
       "\t4 & 4 & 4.6 & 3.1 & 1.5 & 0.2 & Iris-setosa \\\\\n",
       "\t5 & 5 & 5.0 & 3.6 & 1.4 & 0.2 & Iris-setosa \\\\\n",
       "\t6 & 6 & 5.4 & 3.9 & 1.7 & 0.4 & Iris-setosa \\\\\n",
       "\\end{tabular}\n"
      ],
      "text/plain": [
       "6×6 DataFrame. Omitted printing of 1 columns\n",
       "│ Row │ Id    │ SepalLengthCm │ SepalWidthCm │ PetalLengthCm │ PetalWidthCm │\n",
       "│     │ \u001b[90mInt64\u001b[39m │ \u001b[90mFloat64\u001b[39m       │ \u001b[90mFloat64\u001b[39m      │ \u001b[90mFloat64\u001b[39m       │ \u001b[90mFloat64\u001b[39m      │\n",
       "├─────┼───────┼───────────────┼──────────────┼───────────────┼──────────────┤\n",
       "│ 1   │ 1     │ 5.1           │ 3.5          │ 1.4           │ 0.2          │\n",
       "│ 2   │ 2     │ 4.9           │ 3.0          │ 1.4           │ 0.2          │\n",
       "│ 3   │ 3     │ 4.7           │ 3.2          │ 1.3           │ 0.2          │\n",
       "│ 4   │ 4     │ 4.6           │ 3.1          │ 1.5           │ 0.2          │\n",
       "│ 5   │ 5     │ 5.0           │ 3.6          │ 1.4           │ 0.2          │\n",
       "│ 6   │ 6     │ 5.4           │ 3.9          │ 1.7           │ 0.4          │"
      ]
     },
     "execution_count": 14,
     "metadata": {},
     "output_type": "execute_result"
    }
   ],
   "source": [
    "head(iris)"
   ]
  },
  {
   "cell_type": "code",
   "execution_count": 15,
   "metadata": {},
   "outputs": [
    {
     "name": "stderr",
     "output_type": "stream",
     "text": [
      "┌ Warning: `tail(df::AbstractDataFrame)` is deprecated, use `last(df, 6)` instead.\n",
      "│   caller = top-level scope at In[15]:1\n",
      "└ @ Core In[15]:1\n"
     ]
    },
    {
     "data": {
      "text/html": [
       "<table class=\"data-frame\"><thead><tr><th></th><th>Id</th><th>SepalLengthCm</th><th>SepalWidthCm</th><th>PetalLengthCm</th><th>PetalWidthCm</th><th>Species</th></tr><tr><th></th><th>Int64</th><th>Float64</th><th>Float64</th><th>Float64</th><th>Float64</th><th>String</th></tr></thead><tbody><p>6 rows × 6 columns</p><tr><th>1</th><td>145</td><td>6.7</td><td>3.3</td><td>5.7</td><td>2.5</td><td>Iris-virginica</td></tr><tr><th>2</th><td>146</td><td>6.7</td><td>3.0</td><td>5.2</td><td>2.3</td><td>Iris-virginica</td></tr><tr><th>3</th><td>147</td><td>6.3</td><td>2.5</td><td>5.0</td><td>1.9</td><td>Iris-virginica</td></tr><tr><th>4</th><td>148</td><td>6.5</td><td>3.0</td><td>5.2</td><td>2.0</td><td>Iris-virginica</td></tr><tr><th>5</th><td>149</td><td>6.2</td><td>3.4</td><td>5.4</td><td>2.3</td><td>Iris-virginica</td></tr><tr><th>6</th><td>150</td><td>5.9</td><td>3.0</td><td>5.1</td><td>1.8</td><td>Iris-virginica</td></tr></tbody></table>"
      ],
      "text/latex": [
       "\\begin{tabular}{r|cccccc}\n",
       "\t& Id & SepalLengthCm & SepalWidthCm & PetalLengthCm & PetalWidthCm & Species\\\\\n",
       "\t\\hline\n",
       "\t& Int64 & Float64 & Float64 & Float64 & Float64 & String\\\\\n",
       "\t\\hline\n",
       "\t1 & 145 & 6.7 & 3.3 & 5.7 & 2.5 & Iris-virginica \\\\\n",
       "\t2 & 146 & 6.7 & 3.0 & 5.2 & 2.3 & Iris-virginica \\\\\n",
       "\t3 & 147 & 6.3 & 2.5 & 5.0 & 1.9 & Iris-virginica \\\\\n",
       "\t4 & 148 & 6.5 & 3.0 & 5.2 & 2.0 & Iris-virginica \\\\\n",
       "\t5 & 149 & 6.2 & 3.4 & 5.4 & 2.3 & Iris-virginica \\\\\n",
       "\t6 & 150 & 5.9 & 3.0 & 5.1 & 1.8 & Iris-virginica \\\\\n",
       "\\end{tabular}\n"
      ],
      "text/plain": [
       "6×6 DataFrame. Omitted printing of 1 columns\n",
       "│ Row │ Id    │ SepalLengthCm │ SepalWidthCm │ PetalLengthCm │ PetalWidthCm │\n",
       "│     │ \u001b[90mInt64\u001b[39m │ \u001b[90mFloat64\u001b[39m       │ \u001b[90mFloat64\u001b[39m      │ \u001b[90mFloat64\u001b[39m       │ \u001b[90mFloat64\u001b[39m      │\n",
       "├─────┼───────┼───────────────┼──────────────┼───────────────┼──────────────┤\n",
       "│ 1   │ 145   │ 6.7           │ 3.3          │ 5.7           │ 2.5          │\n",
       "│ 2   │ 146   │ 6.7           │ 3.0          │ 5.2           │ 2.3          │\n",
       "│ 3   │ 147   │ 6.3           │ 2.5          │ 5.0           │ 1.9          │\n",
       "│ 4   │ 148   │ 6.5           │ 3.0          │ 5.2           │ 2.0          │\n",
       "│ 5   │ 149   │ 6.2           │ 3.4          │ 5.4           │ 2.3          │\n",
       "│ 6   │ 150   │ 5.9           │ 3.0          │ 5.1           │ 1.8          │"
      ]
     },
     "execution_count": 15,
     "metadata": {},
     "output_type": "execute_result"
    }
   ],
   "source": [
    "tail(iris)"
   ]
  },
  {
   "cell_type": "code",
   "execution_count": 16,
   "metadata": {},
   "outputs": [
    {
     "data": {
      "text/html": [
       "<table class=\"data-frame\"><thead><tr><th></th><th>Id</th><th>SepalLengthCm</th><th>SepalWidthCm</th><th>PetalLengthCm</th><th>PetalWidthCm</th><th>Species</th></tr><tr><th></th><th>Int64</th><th>Float64</th><th>Float64</th><th>Float64</th><th>Float64</th><th>String</th></tr></thead><tbody><p>6 rows × 6 columns</p><tr><th>1</th><td>145</td><td>6.7</td><td>3.3</td><td>5.7</td><td>2.5</td><td>Iris-virginica</td></tr><tr><th>2</th><td>146</td><td>6.7</td><td>3.0</td><td>5.2</td><td>2.3</td><td>Iris-virginica</td></tr><tr><th>3</th><td>147</td><td>6.3</td><td>2.5</td><td>5.0</td><td>1.9</td><td>Iris-virginica</td></tr><tr><th>4</th><td>148</td><td>6.5</td><td>3.0</td><td>5.2</td><td>2.0</td><td>Iris-virginica</td></tr><tr><th>5</th><td>149</td><td>6.2</td><td>3.4</td><td>5.4</td><td>2.3</td><td>Iris-virginica</td></tr><tr><th>6</th><td>150</td><td>5.9</td><td>3.0</td><td>5.1</td><td>1.8</td><td>Iris-virginica</td></tr></tbody></table>"
      ],
      "text/latex": [
       "\\begin{tabular}{r|cccccc}\n",
       "\t& Id & SepalLengthCm & SepalWidthCm & PetalLengthCm & PetalWidthCm & Species\\\\\n",
       "\t\\hline\n",
       "\t& Int64 & Float64 & Float64 & Float64 & Float64 & String\\\\\n",
       "\t\\hline\n",
       "\t1 & 145 & 6.7 & 3.3 & 5.7 & 2.5 & Iris-virginica \\\\\n",
       "\t2 & 146 & 6.7 & 3.0 & 5.2 & 2.3 & Iris-virginica \\\\\n",
       "\t3 & 147 & 6.3 & 2.5 & 5.0 & 1.9 & Iris-virginica \\\\\n",
       "\t4 & 148 & 6.5 & 3.0 & 5.2 & 2.0 & Iris-virginica \\\\\n",
       "\t5 & 149 & 6.2 & 3.4 & 5.4 & 2.3 & Iris-virginica \\\\\n",
       "\t6 & 150 & 5.9 & 3.0 & 5.1 & 1.8 & Iris-virginica \\\\\n",
       "\\end{tabular}\n"
      ],
      "text/plain": [
       "6×6 DataFrame. Omitted printing of 1 columns\n",
       "│ Row │ Id    │ SepalLengthCm │ SepalWidthCm │ PetalLengthCm │ PetalWidthCm │\n",
       "│     │ \u001b[90mInt64\u001b[39m │ \u001b[90mFloat64\u001b[39m       │ \u001b[90mFloat64\u001b[39m      │ \u001b[90mFloat64\u001b[39m       │ \u001b[90mFloat64\u001b[39m      │\n",
       "├─────┼───────┼───────────────┼──────────────┼───────────────┼──────────────┤\n",
       "│ 1   │ 145   │ 6.7           │ 3.3          │ 5.7           │ 2.5          │\n",
       "│ 2   │ 146   │ 6.7           │ 3.0          │ 5.2           │ 2.3          │\n",
       "│ 3   │ 147   │ 6.3           │ 2.5          │ 5.0           │ 1.9          │\n",
       "│ 4   │ 148   │ 6.5           │ 3.0          │ 5.2           │ 2.0          │\n",
       "│ 5   │ 149   │ 6.2           │ 3.4          │ 5.4           │ 2.3          │\n",
       "│ 6   │ 150   │ 5.9           │ 3.0          │ 5.1           │ 1.8          │"
      ]
     },
     "execution_count": 16,
     "metadata": {},
     "output_type": "execute_result"
    }
   ],
   "source": [
    "last(iris, 6)"
   ]
  },
  {
   "cell_type": "code",
   "execution_count": 17,
   "metadata": {},
   "outputs": [
    {
     "data": {
      "text/html": [
       "<table class=\"data-frame\"><thead><tr><th></th><th>variable</th><th>mean</th><th>min</th><th>median</th><th>max</th><th>nunique</th><th>nmissing</th></tr><tr><th></th><th>Symbol</th><th>Union…</th><th>Any</th><th>Union…</th><th>Any</th><th>Union…</th><th>Nothing</th></tr></thead><tbody><p>6 rows × 8 columns (omitted printing of 1 columns)</p><tr><th>1</th><td>Id</td><td>75.5</td><td>1</td><td>75.5</td><td>150</td><td></td><td></td></tr><tr><th>2</th><td>SepalLengthCm</td><td>5.84333</td><td>4.3</td><td>5.8</td><td>7.9</td><td></td><td></td></tr><tr><th>3</th><td>SepalWidthCm</td><td>3.054</td><td>2.0</td><td>3.0</td><td>4.4</td><td></td><td></td></tr><tr><th>4</th><td>PetalLengthCm</td><td>3.75867</td><td>1.0</td><td>4.35</td><td>6.9</td><td></td><td></td></tr><tr><th>5</th><td>PetalWidthCm</td><td>1.19867</td><td>0.1</td><td>1.3</td><td>2.5</td><td></td><td></td></tr><tr><th>6</th><td>Species</td><td></td><td>Iris-setosa</td><td></td><td>Iris-virginica</td><td>3</td><td></td></tr></tbody></table>"
      ],
      "text/latex": [
       "\\begin{tabular}{r|cccccccc}\n",
       "\t& variable & mean & min & median & max & nunique & nmissing & \\\\\n",
       "\t\\hline\n",
       "\t& Symbol & Union… & Any & Union… & Any & Union… & Nothing & \\\\\n",
       "\t\\hline\n",
       "\t1 & Id & 75.5 & 1 & 75.5 & 150 &  &  & $\\dots$ \\\\\n",
       "\t2 & SepalLengthCm & 5.84333 & 4.3 & 5.8 & 7.9 &  &  & $\\dots$ \\\\\n",
       "\t3 & SepalWidthCm & 3.054 & 2.0 & 3.0 & 4.4 &  &  & $\\dots$ \\\\\n",
       "\t4 & PetalLengthCm & 3.75867 & 1.0 & 4.35 & 6.9 &  &  & $\\dots$ \\\\\n",
       "\t5 & PetalWidthCm & 1.19867 & 0.1 & 1.3 & 2.5 &  &  & $\\dots$ \\\\\n",
       "\t6 & Species &  & Iris-setosa &  & Iris-virginica & 3 &  & $\\dots$ \\\\\n",
       "\\end{tabular}\n"
      ],
      "text/plain": [
       "6×8 DataFrame. Omitted printing of 3 columns\n",
       "│ Row │ variable      │ mean    │ min         │ median │ max            │\n",
       "│     │ \u001b[90mSymbol\u001b[39m        │ \u001b[90mUnion…\u001b[39m  │ \u001b[90mAny\u001b[39m         │ \u001b[90mUnion…\u001b[39m │ \u001b[90mAny\u001b[39m            │\n",
       "├─────┼───────────────┼─────────┼─────────────┼────────┼────────────────┤\n",
       "│ 1   │ Id            │ 75.5    │ 1           │ 75.5   │ 150            │\n",
       "│ 2   │ SepalLengthCm │ 5.84333 │ 4.3         │ 5.8    │ 7.9            │\n",
       "│ 3   │ SepalWidthCm  │ 3.054   │ 2.0         │ 3.0    │ 4.4            │\n",
       "│ 4   │ PetalLengthCm │ 3.75867 │ 1.0         │ 4.35   │ 6.9            │\n",
       "│ 5   │ PetalWidthCm  │ 1.19867 │ 0.1         │ 1.3    │ 2.5            │\n",
       "│ 6   │ Species       │         │ Iris-setosa │        │ Iris-virginica │"
      ]
     },
     "execution_count": 17,
     "metadata": {},
     "output_type": "execute_result"
    }
   ],
   "source": [
    "describe(iris)"
   ]
  },
  {
   "cell_type": "code",
   "execution_count": 18,
   "metadata": {},
   "outputs": [
    {
     "data": {
      "text/plain": [
       "150-element CSV.Column{String,PooledString}:\n",
       " \"Iris-setosa\"\n",
       " \"Iris-setosa\"\n",
       " \"Iris-setosa\"\n",
       " \"Iris-setosa\"\n",
       " \"Iris-setosa\"\n",
       " \"Iris-setosa\"\n",
       " \"Iris-setosa\"\n",
       " \"Iris-setosa\"\n",
       " \"Iris-setosa\"\n",
       " \"Iris-setosa\"\n",
       " \"Iris-setosa\"\n",
       " \"Iris-setosa\"\n",
       " \"Iris-setosa\"\n",
       " ⋮\n",
       " \"Iris-virginica\"\n",
       " \"Iris-virginica\"\n",
       " \"Iris-virginica\"\n",
       " \"Iris-virginica\"\n",
       " \"Iris-virginica\"\n",
       " \"Iris-virginica\"\n",
       " \"Iris-virginica\"\n",
       " \"Iris-virginica\"\n",
       " \"Iris-virginica\"\n",
       " \"Iris-virginica\"\n",
       " \"Iris-virginica\"\n",
       " \"Iris-virginica\""
      ]
     },
     "execution_count": 18,
     "metadata": {},
     "output_type": "execute_result"
    }
   ],
   "source": [
    "iris.Species"
   ]
  },
  {
   "cell_type": "code",
   "execution_count": 19,
   "metadata": {},
   "outputs": [
    {
     "data": {
      "text/plain": [
       "150-element CSV.Column{Float64,Float64}:\n",
       " 1.4\n",
       " 1.4\n",
       " 1.3\n",
       " 1.5\n",
       " 1.4\n",
       " 1.7\n",
       " 1.4\n",
       " 1.5\n",
       " 1.4\n",
       " 1.5\n",
       " 1.5\n",
       " 1.6\n",
       " 1.4\n",
       " ⋮\n",
       " 4.8\n",
       " 5.4\n",
       " 5.6\n",
       " 5.1\n",
       " 5.1\n",
       " 5.9\n",
       " 5.7\n",
       " 5.2\n",
       " 5.0\n",
       " 5.2\n",
       " 5.4\n",
       " 5.1"
      ]
     },
     "execution_count": 19,
     "metadata": {},
     "output_type": "execute_result"
    }
   ],
   "source": [
    "iris.PetalLengthCm"
   ]
  },
  {
   "cell_type": "code",
   "execution_count": 20,
   "metadata": {},
   "outputs": [
    {
     "data": {
      "text/plain": [
       "150-element Array{Float64,1}:\n",
       " 3.5\n",
       " 3.0\n",
       " 3.2\n",
       " 3.1\n",
       " 3.6\n",
       " 3.9\n",
       " 3.4\n",
       " 3.4\n",
       " 2.9\n",
       " 3.1\n",
       " 3.7\n",
       " 3.4\n",
       " 3.0\n",
       " ⋮\n",
       " 3.0\n",
       " 3.1\n",
       " 3.1\n",
       " 3.1\n",
       " 2.7\n",
       " 3.2\n",
       " 3.3\n",
       " 3.0\n",
       " 2.5\n",
       " 3.0\n",
       " 3.4\n",
       " 3.0"
      ]
     },
     "execution_count": 20,
     "metadata": {},
     "output_type": "execute_result"
    }
   ],
   "source": [
    "iris[:, 3]"
   ]
  },
  {
   "cell_type": "code",
   "execution_count": 21,
   "metadata": {},
   "outputs": [
    {
     "data": {
      "text/html": [
       "<table class=\"data-frame\"><thead><tr><th></th><th>Id</th><th>SepalLengthCm</th><th>SepalWidthCm</th></tr><tr><th></th><th>Int64</th><th>Float64</th><th>Float64</th></tr></thead><tbody><p>150 rows × 3 columns</p><tr><th>1</th><td>1</td><td>5.1</td><td>3.5</td></tr><tr><th>2</th><td>2</td><td>4.9</td><td>3.0</td></tr><tr><th>3</th><td>3</td><td>4.7</td><td>3.2</td></tr><tr><th>4</th><td>4</td><td>4.6</td><td>3.1</td></tr><tr><th>5</th><td>5</td><td>5.0</td><td>3.6</td></tr><tr><th>6</th><td>6</td><td>5.4</td><td>3.9</td></tr><tr><th>7</th><td>7</td><td>4.6</td><td>3.4</td></tr><tr><th>8</th><td>8</td><td>5.0</td><td>3.4</td></tr><tr><th>9</th><td>9</td><td>4.4</td><td>2.9</td></tr><tr><th>10</th><td>10</td><td>4.9</td><td>3.1</td></tr><tr><th>11</th><td>11</td><td>5.4</td><td>3.7</td></tr><tr><th>12</th><td>12</td><td>4.8</td><td>3.4</td></tr><tr><th>13</th><td>13</td><td>4.8</td><td>3.0</td></tr><tr><th>14</th><td>14</td><td>4.3</td><td>3.0</td></tr><tr><th>15</th><td>15</td><td>5.8</td><td>4.0</td></tr><tr><th>16</th><td>16</td><td>5.7</td><td>4.4</td></tr><tr><th>17</th><td>17</td><td>5.4</td><td>3.9</td></tr><tr><th>18</th><td>18</td><td>5.1</td><td>3.5</td></tr><tr><th>19</th><td>19</td><td>5.7</td><td>3.8</td></tr><tr><th>20</th><td>20</td><td>5.1</td><td>3.8</td></tr><tr><th>21</th><td>21</td><td>5.4</td><td>3.4</td></tr><tr><th>22</th><td>22</td><td>5.1</td><td>3.7</td></tr><tr><th>23</th><td>23</td><td>4.6</td><td>3.6</td></tr><tr><th>24</th><td>24</td><td>5.1</td><td>3.3</td></tr><tr><th>25</th><td>25</td><td>4.8</td><td>3.4</td></tr><tr><th>26</th><td>26</td><td>5.0</td><td>3.0</td></tr><tr><th>27</th><td>27</td><td>5.0</td><td>3.4</td></tr><tr><th>28</th><td>28</td><td>5.2</td><td>3.5</td></tr><tr><th>29</th><td>29</td><td>5.2</td><td>3.4</td></tr><tr><th>30</th><td>30</td><td>4.7</td><td>3.2</td></tr><tr><th>&vellip;</th><td>&vellip;</td><td>&vellip;</td><td>&vellip;</td></tr></tbody></table>"
      ],
      "text/latex": [
       "\\begin{tabular}{r|ccc}\n",
       "\t& Id & SepalLengthCm & SepalWidthCm\\\\\n",
       "\t\\hline\n",
       "\t& Int64 & Float64 & Float64\\\\\n",
       "\t\\hline\n",
       "\t1 & 1 & 5.1 & 3.5 \\\\\n",
       "\t2 & 2 & 4.9 & 3.0 \\\\\n",
       "\t3 & 3 & 4.7 & 3.2 \\\\\n",
       "\t4 & 4 & 4.6 & 3.1 \\\\\n",
       "\t5 & 5 & 5.0 & 3.6 \\\\\n",
       "\t6 & 6 & 5.4 & 3.9 \\\\\n",
       "\t7 & 7 & 4.6 & 3.4 \\\\\n",
       "\t8 & 8 & 5.0 & 3.4 \\\\\n",
       "\t9 & 9 & 4.4 & 2.9 \\\\\n",
       "\t10 & 10 & 4.9 & 3.1 \\\\\n",
       "\t11 & 11 & 5.4 & 3.7 \\\\\n",
       "\t12 & 12 & 4.8 & 3.4 \\\\\n",
       "\t13 & 13 & 4.8 & 3.0 \\\\\n",
       "\t14 & 14 & 4.3 & 3.0 \\\\\n",
       "\t15 & 15 & 5.8 & 4.0 \\\\\n",
       "\t16 & 16 & 5.7 & 4.4 \\\\\n",
       "\t17 & 17 & 5.4 & 3.9 \\\\\n",
       "\t18 & 18 & 5.1 & 3.5 \\\\\n",
       "\t19 & 19 & 5.7 & 3.8 \\\\\n",
       "\t20 & 20 & 5.1 & 3.8 \\\\\n",
       "\t21 & 21 & 5.4 & 3.4 \\\\\n",
       "\t22 & 22 & 5.1 & 3.7 \\\\\n",
       "\t23 & 23 & 4.6 & 3.6 \\\\\n",
       "\t24 & 24 & 5.1 & 3.3 \\\\\n",
       "\t25 & 25 & 4.8 & 3.4 \\\\\n",
       "\t26 & 26 & 5.0 & 3.0 \\\\\n",
       "\t27 & 27 & 5.0 & 3.4 \\\\\n",
       "\t28 & 28 & 5.2 & 3.5 \\\\\n",
       "\t29 & 29 & 5.2 & 3.4 \\\\\n",
       "\t30 & 30 & 4.7 & 3.2 \\\\\n",
       "\t$\\dots$ & $\\dots$ & $\\dots$ & $\\dots$ \\\\\n",
       "\\end{tabular}\n"
      ],
      "text/plain": [
       "150×3 DataFrame\n",
       "│ Row │ Id    │ SepalLengthCm │ SepalWidthCm │\n",
       "│     │ \u001b[90mInt64\u001b[39m │ \u001b[90mFloat64\u001b[39m       │ \u001b[90mFloat64\u001b[39m      │\n",
       "├─────┼───────┼───────────────┼──────────────┤\n",
       "│ 1   │ 1     │ 5.1           │ 3.5          │\n",
       "│ 2   │ 2     │ 4.9           │ 3.0          │\n",
       "│ 3   │ 3     │ 4.7           │ 3.2          │\n",
       "│ 4   │ 4     │ 4.6           │ 3.1          │\n",
       "│ 5   │ 5     │ 5.0           │ 3.6          │\n",
       "│ 6   │ 6     │ 5.4           │ 3.9          │\n",
       "│ 7   │ 7     │ 4.6           │ 3.4          │\n",
       "│ 8   │ 8     │ 5.0           │ 3.4          │\n",
       "│ 9   │ 9     │ 4.4           │ 2.9          │\n",
       "│ 10  │ 10    │ 4.9           │ 3.1          │\n",
       "⋮\n",
       "│ 140 │ 140   │ 6.9           │ 3.1          │\n",
       "│ 141 │ 141   │ 6.7           │ 3.1          │\n",
       "│ 142 │ 142   │ 6.9           │ 3.1          │\n",
       "│ 143 │ 143   │ 5.8           │ 2.7          │\n",
       "│ 144 │ 144   │ 6.8           │ 3.2          │\n",
       "│ 145 │ 145   │ 6.7           │ 3.3          │\n",
       "│ 146 │ 146   │ 6.7           │ 3.0          │\n",
       "│ 147 │ 147   │ 6.3           │ 2.5          │\n",
       "│ 148 │ 148   │ 6.5           │ 3.0          │\n",
       "│ 149 │ 149   │ 6.2           │ 3.4          │\n",
       "│ 150 │ 150   │ 5.9           │ 3.0          │"
      ]
     },
     "execution_count": 21,
     "metadata": {},
     "output_type": "execute_result"
    }
   ],
   "source": [
    "iris[:, [1, 2, 3]]"
   ]
  },
  {
   "cell_type": "code",
   "execution_count": 23,
   "metadata": {},
   "outputs": [
    {
     "data": {
      "text/html": [
       "<table class=\"data-frame\"><thead><tr><th></th><th>Id</th><th>SepalLengthCm</th><th>SepalWidthCm</th><th>PetalLengthCm</th><th>PetalWidthCm</th><th>Species</th></tr><tr><th></th><th>Int64</th><th>Float64</th><th>Float64</th><th>Float64</th><th>Float64</th><th>String</th></tr></thead><tbody><p>5 rows × 6 columns</p><tr><th>1</th><td>1</td><td>5.1</td><td>3.5</td><td>1.4</td><td>0.2</td><td>Iris-setosa</td></tr><tr><th>2</th><td>2</td><td>4.9</td><td>3.0</td><td>1.4</td><td>0.2</td><td>Iris-setosa</td></tr><tr><th>3</th><td>3</td><td>4.7</td><td>3.2</td><td>1.3</td><td>0.2</td><td>Iris-setosa</td></tr><tr><th>4</th><td>4</td><td>4.6</td><td>3.1</td><td>1.5</td><td>0.2</td><td>Iris-setosa</td></tr><tr><th>5</th><td>5</td><td>5.0</td><td>3.6</td><td>1.4</td><td>0.2</td><td>Iris-setosa</td></tr></tbody></table>"
      ],
      "text/latex": [
       "\\begin{tabular}{r|cccccc}\n",
       "\t& Id & SepalLengthCm & SepalWidthCm & PetalLengthCm & PetalWidthCm & Species\\\\\n",
       "\t\\hline\n",
       "\t& Int64 & Float64 & Float64 & Float64 & Float64 & String\\\\\n",
       "\t\\hline\n",
       "\t1 & 1 & 5.1 & 3.5 & 1.4 & 0.2 & Iris-setosa \\\\\n",
       "\t2 & 2 & 4.9 & 3.0 & 1.4 & 0.2 & Iris-setosa \\\\\n",
       "\t3 & 3 & 4.7 & 3.2 & 1.3 & 0.2 & Iris-setosa \\\\\n",
       "\t4 & 4 & 4.6 & 3.1 & 1.5 & 0.2 & Iris-setosa \\\\\n",
       "\t5 & 5 & 5.0 & 3.6 & 1.4 & 0.2 & Iris-setosa \\\\\n",
       "\\end{tabular}\n"
      ],
      "text/plain": [
       "5×6 DataFrame. Omitted printing of 1 columns\n",
       "│ Row │ Id    │ SepalLengthCm │ SepalWidthCm │ PetalLengthCm │ PetalWidthCm │\n",
       "│     │ \u001b[90mInt64\u001b[39m │ \u001b[90mFloat64\u001b[39m       │ \u001b[90mFloat64\u001b[39m      │ \u001b[90mFloat64\u001b[39m       │ \u001b[90mFloat64\u001b[39m      │\n",
       "├─────┼───────┼───────────────┼──────────────┼───────────────┼──────────────┤\n",
       "│ 1   │ 1     │ 5.1           │ 3.5          │ 1.4           │ 0.2          │\n",
       "│ 2   │ 2     │ 4.9           │ 3.0          │ 1.4           │ 0.2          │\n",
       "│ 3   │ 3     │ 4.7           │ 3.2          │ 1.3           │ 0.2          │\n",
       "│ 4   │ 4     │ 4.6           │ 3.1          │ 1.5           │ 0.2          │\n",
       "│ 5   │ 5     │ 5.0           │ 3.6          │ 1.4           │ 0.2          │"
      ]
     },
     "execution_count": 23,
     "metadata": {},
     "output_type": "execute_result"
    }
   ],
   "source": [
    "iris[1:5, :]"
   ]
  },
  {
   "cell_type": "code",
   "execution_count": 25,
   "metadata": {},
   "outputs": [
    {
     "data": {
      "text/html": [
       "<table class=\"data-frame\"><thead><tr><th></th><th>SepalLengthCm</th><th>SepalWidthCm</th></tr><tr><th></th><th>Float64</th><th>Float64</th></tr></thead><tbody><p>5 rows × 2 columns</p><tr><th>1</th><td>5.1</td><td>3.5</td></tr><tr><th>2</th><td>4.9</td><td>3.0</td></tr><tr><th>3</th><td>4.7</td><td>3.2</td></tr><tr><th>4</th><td>4.6</td><td>3.1</td></tr><tr><th>5</th><td>5.0</td><td>3.6</td></tr></tbody></table>"
      ],
      "text/latex": [
       "\\begin{tabular}{r|cc}\n",
       "\t& SepalLengthCm & SepalWidthCm\\\\\n",
       "\t\\hline\n",
       "\t& Float64 & Float64\\\\\n",
       "\t\\hline\n",
       "\t1 & 5.1 & 3.5 \\\\\n",
       "\t2 & 4.9 & 3.0 \\\\\n",
       "\t3 & 4.7 & 3.2 \\\\\n",
       "\t4 & 4.6 & 3.1 \\\\\n",
       "\t5 & 5.0 & 3.6 \\\\\n",
       "\\end{tabular}\n"
      ],
      "text/plain": [
       "5×2 DataFrame\n",
       "│ Row │ SepalLengthCm │ SepalWidthCm │\n",
       "│     │ \u001b[90mFloat64\u001b[39m       │ \u001b[90mFloat64\u001b[39m      │\n",
       "├─────┼───────────────┼──────────────┤\n",
       "│ 1   │ 5.1           │ 3.5          │\n",
       "│ 2   │ 4.9           │ 3.0          │\n",
       "│ 3   │ 4.7           │ 3.2          │\n",
       "│ 4   │ 4.6           │ 3.1          │\n",
       "│ 5   │ 5.0           │ 3.6          │"
      ]
     },
     "execution_count": 25,
     "metadata": {},
     "output_type": "execute_result"
    }
   ],
   "source": [
    "iris[1:5, 2:3]"
   ]
  },
  {
   "cell_type": "code",
   "execution_count": null,
   "metadata": {},
   "outputs": [],
   "source": []
  }
 ],
 "metadata": {
  "kernelspec": {
   "display_name": "Julia 1.4.1",
   "language": "julia",
   "name": "julia-1.4"
  },
  "language_info": {
   "file_extension": ".jl",
   "mimetype": "application/julia",
   "name": "julia",
   "version": "1.4.1"
  }
 },
 "nbformat": 4,
 "nbformat_minor": 2
}
