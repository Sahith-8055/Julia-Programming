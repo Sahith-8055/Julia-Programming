{
 "cells": [
  {
   "cell_type": "markdown",
   "metadata": {},
   "source": [
    "### DDL - Create, Alter, Drop -------> SQLite.DB\n",
    "### DML - Insert, Update, Delete ------> SQLite.execute\n",
    "### DQL - Select -----------------------------> SQLite.Query"
   ]
  },
  {
   "cell_type": "code",
   "execution_count": 1,
   "metadata": {},
   "outputs": [],
   "source": [
    "using SQLite\n",
    "using DataFrames"
   ]
  },
  {
   "cell_type": "code",
   "execution_count": 2,
   "metadata": {},
   "outputs": [
    {
     "data": {
      "text/plain": [
       "SQLite.DB(\"Movies\")"
      ]
     },
     "execution_count": 2,
     "metadata": {},
     "output_type": "execute_result"
    }
   ],
   "source": [
    "db = SQLite.DB(\"Movies\")"
   ]
  },
  {
   "cell_type": "code",
   "execution_count": 3,
   "metadata": {},
   "outputs": [
    {
     "data": {
      "text/plain": [
       "SQLite.Query(SQLite.Stmt(SQLite.DB(\"Movies\"), Ptr{Nothing} @0x00000000278eb978, Dict{Int64,Any}(), 101), Base.RefValue{Int32}(101), Symbol[], Type[], Dict{Symbol,Int64}())"
      ]
     },
     "execution_count": 3,
     "metadata": {},
     "output_type": "execute_result"
    }
   ],
   "source": [
    "DBInterface.execute(db, \"CREATE TABLE IF NOT EXISTS movies(movie_id REAL, movie_name TEXT, location TEXT)\")"
   ]
  },
  {
   "cell_type": "code",
   "execution_count": 4,
   "metadata": {},
   "outputs": [
    {
     "data": {
      "text/html": [
       "<table class=\"data-frame\"><thead><tr><th></th><th>name</th></tr><tr><th></th><th>String</th></tr></thead><tbody><p>1 rows × 1 columns</p><tr><th>1</th><td>movies</td></tr></tbody></table>"
      ],
      "text/latex": [
       "\\begin{tabular}{r|c}\n",
       "\t& name\\\\\n",
       "\t\\hline\n",
       "\t& String\\\\\n",
       "\t\\hline\n",
       "\t1 & movies \\\\\n",
       "\\end{tabular}\n"
      ],
      "text/plain": [
       "1×1 DataFrame\n",
       "│ Row │ name   │\n",
       "│     │ \u001b[90mString\u001b[39m │\n",
       "├─────┼────────┤\n",
       "│ 1   │ movies │"
      ]
     },
     "execution_count": 4,
     "metadata": {},
     "output_type": "execute_result"
    }
   ],
   "source": [
    "SQLite.tables(db) |> DataFrame"
   ]
  },
  {
   "cell_type": "code",
   "execution_count": 5,
   "metadata": {},
   "outputs": [
    {
     "data": {
      "text/plain": [
       "SQLite.Stmt(SQLite.DB(\"Movies\"), Ptr{Nothing} @0x00000000276ed008, Dict{Int64,Any}(), 0)"
      ]
     },
     "execution_count": 5,
     "metadata": {},
     "output_type": "execute_result"
    }
   ],
   "source": [
    "stmt = SQLite.Stmt(db, \"INSERT INTO movies (movie_id, movie_name, location) VALUES (?, ?, ?)\")"
   ]
  },
  {
   "cell_type": "code",
   "execution_count": 6,
   "metadata": {},
   "outputs": [
    {
     "data": {
      "text/plain": [
       "SQLite.Query(SQLite.Stmt(SQLite.DB(\"Movies\"), Ptr{Nothing} @0x00000000276ed008, Dict{Int64,Any}(2 => \"SarileruNeekevaru\",3 => \"Hyderabad\",1 => 1), 101), Base.RefValue{Int32}(101), Symbol[], Type[], Dict{Symbol,Int64}())"
      ]
     },
     "execution_count": 6,
     "metadata": {},
     "output_type": "execute_result"
    }
   ],
   "source": [
    "DBInterface.execute(stmt, (1, \"AlaVaikuntapuramuloo\", \"Hyderabad\"))\n",
    "DBInterface.execute(stmt, (1, \"SarileruNeekevaru\", \"Hyderabad\"))"
   ]
  },
  {
   "cell_type": "code",
   "execution_count": 7,
   "metadata": {},
   "outputs": [
    {
     "data": {
      "text/html": [
       "<table class=\"data-frame\"><thead><tr><th></th><th>movie_id</th><th>movie_name</th><th>location</th></tr><tr><th></th><th>Float64</th><th>String</th><th>String</th></tr></thead><tbody><p>3 rows × 3 columns</p><tr><th>1</th><td>1.0</td><td>AlaVaikuntapuramuloo</td><td>Hyderabad</td></tr><tr><th>2</th><td>1.0</td><td>AlaVaikuntapuramuloo</td><td>Hyderabad</td></tr><tr><th>3</th><td>1.0</td><td>SarileruNeekevaru</td><td>Hyderabad</td></tr></tbody></table>"
      ],
      "text/latex": [
       "\\begin{tabular}{r|ccc}\n",
       "\t& movie\\_id & movie\\_name & location\\\\\n",
       "\t\\hline\n",
       "\t& Float64 & String & String\\\\\n",
       "\t\\hline\n",
       "\t1 & 1.0 & AlaVaikuntapuramuloo & Hyderabad \\\\\n",
       "\t2 & 1.0 & AlaVaikuntapuramuloo & Hyderabad \\\\\n",
       "\t3 & 1.0 & SarileruNeekevaru & Hyderabad \\\\\n",
       "\\end{tabular}\n"
      ],
      "text/plain": [
       "3×3 DataFrame\n",
       "│ Row │ movie_id │ movie_name           │ location  │\n",
       "│     │ \u001b[90mFloat64\u001b[39m  │ \u001b[90mString\u001b[39m               │ \u001b[90mString\u001b[39m    │\n",
       "├─────┼──────────┼──────────────────────┼───────────┤\n",
       "│ 1   │ 1.0      │ AlaVaikuntapuramuloo │ Hyderabad │\n",
       "│ 2   │ 1.0      │ AlaVaikuntapuramuloo │ Hyderabad │\n",
       "│ 3   │ 1.0      │ SarileruNeekevaru    │ Hyderabad │"
      ]
     },
     "execution_count": 7,
     "metadata": {},
     "output_type": "execute_result"
    }
   ],
   "source": [
    "DBInterface.execute(db, \"select * from movies\") |> DataFrame"
   ]
  },
  {
   "cell_type": "code",
   "execution_count": 9,
   "metadata": {},
   "outputs": [
    {
     "data": {
      "text/html": [
       "<table class=\"data-frame\"><thead><tr><th></th><th>cid</th><th>name</th><th>type</th><th>notnull</th><th>dflt_value</th><th>pk</th></tr><tr><th></th><th>Int64</th><th>String</th><th>String</th><th>Int64</th><th>Missing</th><th>Int64</th></tr></thead><tbody><p>3 rows × 6 columns</p><tr><th>1</th><td>0</td><td>movie_id</td><td>REAL</td><td>0</td><td><em>missing</em></td><td>0</td></tr><tr><th>2</th><td>1</td><td>movie_name</td><td>TEXT</td><td>0</td><td><em>missing</em></td><td>0</td></tr><tr><th>3</th><td>2</td><td>location</td><td>TEXT</td><td>0</td><td><em>missing</em></td><td>0</td></tr></tbody></table>"
      ],
      "text/latex": [
       "\\begin{tabular}{r|cccccc}\n",
       "\t& cid & name & type & notnull & dflt\\_value & pk\\\\\n",
       "\t\\hline\n",
       "\t& Int64 & String & String & Int64 & Missing & Int64\\\\\n",
       "\t\\hline\n",
       "\t1 & 0 & movie\\_id & REAL & 0 & \\emph{missing} & 0 \\\\\n",
       "\t2 & 1 & movie\\_name & TEXT & 0 & \\emph{missing} & 0 \\\\\n",
       "\t3 & 2 & location & TEXT & 0 & \\emph{missing} & 0 \\\\\n",
       "\\end{tabular}\n"
      ],
      "text/plain": [
       "3×6 DataFrame\n",
       "│ Row │ cid   │ name       │ type   │ notnull │ dflt_value │ pk    │\n",
       "│     │ \u001b[90mInt64\u001b[39m │ \u001b[90mString\u001b[39m     │ \u001b[90mString\u001b[39m │ \u001b[90mInt64\u001b[39m   │ \u001b[90mMissing\u001b[39m    │ \u001b[90mInt64\u001b[39m │\n",
       "├─────┼───────┼────────────┼────────┼─────────┼────────────┼───────┤\n",
       "│ 1   │ 0     │ movie_id   │ REAL   │ 0       │ \u001b[90mmissing\u001b[39m    │ 0     │\n",
       "│ 2   │ 1     │ movie_name │ TEXT   │ 0       │ \u001b[90mmissing\u001b[39m    │ 0     │\n",
       "│ 3   │ 2     │ location   │ TEXT   │ 0       │ \u001b[90mmissing\u001b[39m    │ 0     │"
      ]
     },
     "execution_count": 9,
     "metadata": {},
     "output_type": "execute_result"
    }
   ],
   "source": [
    "SQLite.columns(db, \"movies\") |> DataFrame"
   ]
  },
  {
   "cell_type": "code",
   "execution_count": 10,
   "metadata": {},
   "outputs": [
    {
     "data": {
      "text/plain": [
       "SQLite.DB(\"chinook.db\")"
      ]
     },
     "execution_count": 10,
     "metadata": {},
     "output_type": "execute_result"
    }
   ],
   "source": [
    "chinook = SQLite.DB(\"chinook.db\")"
   ]
  },
  {
   "cell_type": "code",
   "execution_count": 14,
   "metadata": {},
   "outputs": [
    {
     "data": {
      "text/html": [
       "<table class=\"data-frame\"><thead><tr><th></th><th>name</th></tr><tr><th></th><th>String</th></tr></thead><tbody><p>13 rows × 1 columns</p><tr><th>1</th><td>albums</td></tr><tr><th>2</th><td>sqlite_sequence</td></tr><tr><th>3</th><td>artists</td></tr><tr><th>4</th><td>customers</td></tr><tr><th>5</th><td>employees</td></tr><tr><th>6</th><td>genres</td></tr><tr><th>7</th><td>invoices</td></tr><tr><th>8</th><td>invoice_items</td></tr><tr><th>9</th><td>media_types</td></tr><tr><th>10</th><td>playlists</td></tr><tr><th>11</th><td>playlist_track</td></tr><tr><th>12</th><td>tracks</td></tr><tr><th>13</th><td>sqlite_stat1</td></tr></tbody></table>"
      ],
      "text/latex": [
       "\\begin{tabular}{r|c}\n",
       "\t& name\\\\\n",
       "\t\\hline\n",
       "\t& String\\\\\n",
       "\t\\hline\n",
       "\t1 & albums \\\\\n",
       "\t2 & sqlite\\_sequence \\\\\n",
       "\t3 & artists \\\\\n",
       "\t4 & customers \\\\\n",
       "\t5 & employees \\\\\n",
       "\t6 & genres \\\\\n",
       "\t7 & invoices \\\\\n",
       "\t8 & invoice\\_items \\\\\n",
       "\t9 & media\\_types \\\\\n",
       "\t10 & playlists \\\\\n",
       "\t11 & playlist\\_track \\\\\n",
       "\t12 & tracks \\\\\n",
       "\t13 & sqlite\\_stat1 \\\\\n",
       "\\end{tabular}\n"
      ],
      "text/plain": [
       "13×1 DataFrame\n",
       "│ Row │ name            │\n",
       "│     │ \u001b[90mString\u001b[39m          │\n",
       "├─────┼─────────────────┤\n",
       "│ 1   │ albums          │\n",
       "│ 2   │ sqlite_sequence │\n",
       "│ 3   │ artists         │\n",
       "│ 4   │ customers       │\n",
       "│ 5   │ employees       │\n",
       "│ 6   │ genres          │\n",
       "│ 7   │ invoices        │\n",
       "│ 8   │ invoice_items   │\n",
       "│ 9   │ media_types     │\n",
       "│ 10  │ playlists       │\n",
       "│ 11  │ playlist_track  │\n",
       "│ 12  │ tracks          │\n",
       "│ 13  │ sqlite_stat1    │"
      ]
     },
     "execution_count": 14,
     "metadata": {},
     "output_type": "execute_result"
    }
   ],
   "source": [
    "SQLite.tables(chinook) |> DataFrame"
   ]
  },
  {
   "cell_type": "code",
   "execution_count": null,
   "metadata": {},
   "outputs": [],
   "source": [
    "DBInterface.execute(chinook, \"select * from employees\") |> DataF"
   ]
  }
 ],
 "metadata": {
  "kernelspec": {
   "display_name": "Julia 1.4.1",
   "language": "julia",
   "name": "julia-1.4"
  },
  "language_info": {
   "file_extension": ".jl",
   "mimetype": "application/julia",
   "name": "julia",
   "version": "1.4.1"
  }
 },
 "nbformat": 4,
 "nbformat_minor": 2
}
